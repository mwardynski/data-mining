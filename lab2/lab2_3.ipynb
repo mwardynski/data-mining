{
 "cells": [
  {
   "cell_type": "code",
   "execution_count": 39,
   "metadata": {},
   "outputs": [],
   "source": [
    "import pandas as pd\n",
    "from sklearn.model_selection import train_test_split\n",
    "\n",
    "tit_train = pd.read_csv(\"ed-titanic-training.csv\", index_col=0)\n",
    "tit_test = pd.read_csv(\"ed-titanic-test.csv\", index_col=0)\n",
    "\n",
    "tit_train.loc[tit_train['Age'] > 3, 'Age'] = 4\n",
    "tit_test.loc[tit_test['Age'] > 3, 'Age'] = 4\n",
    "\n",
    "tit_data_x = tit_train.drop('Survived', axis=1)\n",
    "tit_data_y = tit_train['Survived']\n",
    "\n",
    "tit_x_train, tit_x_test, tit_y_train, tit_y_test = train_test_split(tit_data_x, tit_data_y, train_size=0.75)"
   ]
  },
  {
   "cell_type": "code",
   "execution_count": 40,
   "metadata": {},
   "outputs": [
    {
     "name": "stdout",
     "output_type": "stream",
     "text": [
      "100\n"
     ]
    }
   ],
   "source": [
    "from sklearn.ensemble import RandomForestClassifier\n",
    "from sklearn.model_selection import GridSearchCV\n",
    "\n",
    "search = GridSearchCV(\n",
    "    RandomForestClassifier(),\n",
    "    {\n",
    "        'criterion': ['entropy'],\n",
    "        'max_depth': [3],\n",
    "        'min_samples_leaf': [1],\n",
    "        'n_estimators': [50, 75, 100, 125, 150]\n",
    "    },\n",
    "    cv=10,\n",
    "    scoring='accuracy'\n",
    ")\n",
    "\n",
    "search.fit(tit_data_x, tit_data_y)\n",
    "print(search.best_estimator_.n_estimators)"
   ]
  },
  {
   "cell_type": "code",
   "execution_count": 41,
   "metadata": {},
   "outputs": [
    {
     "data": {
      "image/png": "[encoded data removed]",
      "text/plain": [
       "<Figure size 800x600 with 2 Axes>"
      ]
     },
     "metadata": {},
     "output_type": "display_data"
    }
   ],
   "source": [
    "from sklearn.metrics import confusion_matrix, ConfusionMatrixDisplay\n",
    "import matplotlib.pyplot as plt\n",
    "\n",
    "decision_tree = RandomForestClassifier(n_estimators=75, max_depth=3, criterion='entropy', min_samples_leaf=1)\n",
    "decision_tree.fit(tit_x_train, tit_y_train)\n",
    "\n",
    "tit_y_pred = decision_tree.predict(tit_x_test)\n",
    "cm = confusion_matrix(tit_y_test, tit_y_pred)\n",
    "\n",
    "disp = ConfusionMatrixDisplay(confusion_matrix=cm, display_labels=['Died', 'Survived'])\n",
    "fig, diag = plt.subplots(figsize=(8, 6))\n",
    "disp.plot(cmap=plt.cm.Blues, ax=diag)\n",
    "diag.set_title('Confusion Matrix', fontsize=16)\n",
    "plt.show()"
   ]
  },
  {
   "cell_type": "code",
   "execution_count": 42,
   "metadata": {},
   "outputs": [
    {
     "name": "stdout",
     "output_type": "stream",
     "text": [
      "Accuracy: 0.812\n",
      "F1-score: 0.727\n",
      "Avg Precision: 0.809\n",
      "Avg Recall: 0.812\n"
     ]
    }
   ],
   "source": [
    "from sklearn.metrics import accuracy_score, f1_score\n",
    "from sklearn.metrics import precision_recall_fscore_support\n",
    "\n",
    "accuracy = accuracy_score(tit_y_test, tit_y_pred)\n",
    "print(f'Accuracy: {accuracy:.3f}')\n",
    "\n",
    "f1_sc = f1_score(tit_y_test, tit_y_pred)\n",
    "print(f'F1-score: {f1_sc:.3f}')\n",
    "\n",
    "precision_avg, recall_avg, _, _ = precision_recall_fscore_support(tit_y_test, tit_y_pred, average='weighted')\n",
    "print(f'Avg Precision: {precision_avg:.3f}')\n",
    "print(f'Avg Recall: {recall_avg:.3f}')"
   ]
  },
  {
   "cell_type": "code",
   "execution_count": 43,
   "metadata": {},
   "outputs": [],
   "source": [
    "from sklearn.ensemble import RandomForestClassifier\n",
    "from sklearn.model_selection import GridSearchCV\n",
    "import matplotlib.pyplot as plt\n",
    "import numpy as np\n",
    "\n",
    "def find_best(data, target):\n",
    "    comparison = GridSearchCV(\n",
    "        RandomForestClassifier(),\n",
    "        {\n",
    "            'criterion': ['gini', 'entropy'],\n",
    "            'max_depth': np.arange(1, 10),\n",
    "            'min_samples_leaf': [1, 5, 10, 15],\n",
    "            'n_estimators': [50, 75, 100, 125, 150]\n",
    "        },\n",
    "        cv=10,\n",
    "        scoring='accuracy'\n",
    "    )\n",
    "\n",
    "    comparison.fit(data, target)\n",
    "    print(f'Best: Gini/Entropy:{comparison.best_estimator_.criterion}, max_depth:{comparison.best_estimator_.max_depth}, min_samples_leaf:{comparison.best_estimator_.min_samples_leaf}, n_estimators:{comparison.best_estimator_.n_estimators}')\n",
    "\n",
    "find_best(tit_data_x, tit_data_y)"
   ]
  },
  {
   "cell_type": "code",
   "execution_count": null,
   "metadata": {},
   "outputs": [],
   "source": [
    "from sklearn.metrics import confusion_matrix, ConfusionMatrixDisplay\n",
    "import matplotlib.pyplot as plt\n",
    "\n",
    "decision_tree = RandomForestClassifier(n_estimators=125, max_depth=7, criterion='entropy', min_samples_leaf=5)\n",
    "decision_tree.fit(tit_x_train, tit_y_train)\n",
    "\n",
    "tit_y_pred = decision_tree.predict(tit_x_test)\n",
    "cm = confusion_matrix(tit_y_test, tit_y_pred)\n",
    "\n",
    "disp = ConfusionMatrixDisplay(confusion_matrix=cm, display_labels=['Died', 'Survived'])\n",
    "fig, diag = plt.subplots(figsize=(8, 6))\n",
    "disp.plot(cmap=plt.cm.Blues, ax=diag)\n",
    "diag.set_title('Confusion Matrix', fontsize=16)\n",
    "plt.show()"
   ]
  },
  {
   "cell_type": "code",
   "execution_count": null,
   "metadata": {},
   "outputs": [],
   "source": [
    "from sklearn.metrics import accuracy_score, f1_score\n",
    "from sklearn.metrics import precision_recall_fscore_support\n",
    "\n",
    "accuracy = accuracy_score(tit_y_test, tit_y_pred)\n",
    "print(f'Accuracy: {accuracy:.3f}')\n",
    "\n",
    "f1_sc = f1_score(tit_y_test, tit_y_pred)\n",
    "print(f'F1-score: {f1_sc:.3f}')\n",
    "\n",
    "precision_avg, recall_avg, _, _ = precision_recall_fscore_support(tit_y_test, tit_y_pred, average='weighted')\n",
    "print(f'Avg Precision: {precision_avg:.3f}')\n",
    "print(f'Avg Recall: {recall_avg:.3f}')"
   ]
  },
  {
   "cell_type": "code",
   "execution_count": null,
   "metadata": {},
   "outputs": [],
   "source": [
    "from sklearn.datasets import load_breast_cancer\n",
    "from sklearn.decomposition import PCA\n",
    "\n",
    "bc = load_breast_cancer()\n",
    "bc_data = bc.data\n",
    "bc_target = bc.target\n",
    "\n",
    "pca = PCA(n_components=10)\n",
    "bc_pca = pca.fit_transform(bc_data)"
   ]
  },
  {
   "cell_type": "code",
   "execution_count": null,
   "metadata": {},
   "outputs": [],
   "source": [
    "from sklearn.ensemble import RandomForestClassifier\n",
    "from sklearn.model_selection import GridSearchCV\n",
    "import matplotlib.pyplot as plt\n",
    "import numpy as np\n",
    "\n",
    "def plot_comparison(data, data_pca, target):\n",
    "    accuracies = []\n",
    "    params = []\n",
    "\n",
    "    comparison = GridSearchCV(\n",
    "        RandomForestClassifier(),\n",
    "        {\n",
    "            'criterion': ['gini', 'entropy'],\n",
    "            'max_depth': np.arange(1, 10),\n",
    "            'n_estimators': [50, 75, 100, 125, 150]\n",
    "        },\n",
    "        cv=10,\n",
    "        scoring='accuracy'\n",
    "    )\n",
    "    \n",
    "\n",
    "    comparison.fit(data, target)\n",
    "    accuracies_no_pca = np.array(comparison.cv_results_['mean_test_score'])\n",
    "    print(f'Best without PCA: Gini/Entropy:{comparison.best_estimator_.criterion}, max_depth:{comparison.best_estimator_.max_depth}, n_estimators:{comparison.best_estimator_.n_estimators}, accuracy:{max(comparison.cv_results_['mean_test_score'])}')\n",
    "    params_no_pca = np.array(list(map(lambda t: [0 if t['criterion'] == 'gini' else 1, t['max_depth'], t['n_estimators']], comparison.cv_results_['params'])))\n",
    "    \n",
    "\n",
    "    comparison.fit(data_pca, target)\n",
    "    accuracies_pca = np.array(comparison.cv_results_['mean_test_score'])\n",
    "    print(f'Best PCA: Gini/Entropy:{comparison.best_estimator_.criterion}, max_depth:{comparison.best_estimator_.max_depth}, n_estimators:{comparison.best_estimator_.n_estimators}, accuracy:{max(comparison.cv_results_['mean_test_score'])}')\n",
    "    params_pca = np.array(list(map(lambda t: [2 if t['criterion'] == 'gini' else 3, t['max_depth'], t['n_estimators']], comparison.cv_results_['params'])))\n",
    "\n",
    "    accuracies = np.concatenate((accuracies_no_pca,accuracies_pca),axis=0)\n",
    "    params = np.concatenate((params_no_pca,params_pca),axis=0)\n",
    "\n",
    "    fig = plt.figure(figsize=(8, 8))\n",
    "    points = fig.add_subplot(111, projection='3d')\n",
    "\n",
    "    points.scatter(params[:, 0], params[:, 1], params[:, 2], c=accuracies, cmap='coolwarm', s=50)\n",
    "    points.set_xlabel('Podział: 0=gini, 1=entropy, 2=PCA_gini, 3=PCA_entropy'),\n",
    "    points.set_ylabel('Maksymalna głębokość')\n",
    "    points.set_zlabel('Ilość drzew')\n",
    "    points.set_title('Dokładność klasyfikacji względem parametrów')\n",
    "\n",
    "    cbar = plt.colorbar(points.collections[0], ax=points, orientation='horizontal')\n",
    "    cbar.set_label('Skala dokładności klasyfikacji')\n",
    "    \n",
    "\n",
    "    plt.show()\n",
    "    print(f'Best: Gini/Entropy:{comparison.best_estimator_.criterion}, max_depth:{comparison.best_estimator_.max_depth}, n_estimators:{comparison.best_estimator_.n_estimators}')\n",
    "\n",
    "plot_comparison(bc_data, bc_pca, bc_target)"
   ]
  }
 ],
 "metadata": {
  "kernelspec": {
   "display_name": ".venv",
   "language": "python",
   "name": "python3"
  },
  "language_info": {
   "codemirror_mode": {
    "name": "ipython",
    "version": 3
   },
   "file_extension": ".py",
   "mimetype": "text/x-python",
   "name": "python",
   "nbconvert_exporter": "python",
   "pygments_lexer": "ipython3",
   "version": "3.12.2"
  }
 },
 "nbformat": 4,
 "nbformat_minor": 2
}
