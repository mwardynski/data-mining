{
 "cells": [
  {
   "cell_type": "code",
   "execution_count": 1,
   "metadata": {},
   "outputs": [],
   "source": [
    "import pandas as pd\n",
    "import numpy as np\n",
    "\n",
    "df = pd.read_csv('./nyt-frame.csv', header = 0)\n",
    "data = df.iloc[:,9:]\n",
    "array = data.values"
   ]
  },
  {
   "cell_type": "markdown",
   "metadata": {},
   "source": [
    "//arpack dobry solver dla macierzy rzadkich"
   ]
  },
  {
   "cell_type": "code",
   "execution_count": 2,
   "metadata": {},
   "outputs": [
    {
     "name": "stdout",
     "output_type": "stream",
     "text": [
      "['while.' 'derived' 'progress' 'subversive' 'city' 'orchard' 'words'\n",
      " 'puns' 'too' 'primary' 'entrances' 'hide' 'up' 'hour' 'campus' 'thought'\n",
      " 'finding' 'compared' 'expansion' 'dawn']\n"
     ]
    }
   ],
   "source": [
    "header = list(df.columns.values[9:])\n",
    "sample_word = np.random.choice(header, 20, replace=False)\n",
    "print(sample_word)"
   ]
  },
  {
   "cell_type": "code",
   "execution_count": 3,
   "metadata": {},
   "outputs": [],
   "source": [
    "from sklearn.decomposition import PCA\n",
    "pca = PCA()\n",
    "X_pca = pca.fit_transform(array)"
   ]
  },
  {
   "cell_type": "code",
   "execution_count": 8,
   "metadata": {},
   "outputs": [
    {
     "name": "stdout",
     "output_type": "stream",
     "text": [
      "3530 she\n",
      "1794 her\n",
      "2517 ms\n",
      "1875 i\n",
      "3394 said\n",
      "2498 mother\n",
      "875 cooper\n",
      "2538 my\n",
      "2761 painting\n",
      "3013 process\n",
      "2762 paintings\n",
      "1899 im\n",
      "2516 mrs\n",
      "1771 he\n",
      "2373 me\n"
     ]
    }
   ],
   "source": [
    "indices = list(zip(*sorted(\n",
    "    list(enumerate(pca.components_[0])),\n",
    "    key=lambda x: x[1], reverse=True\n",
    ")[:15]))[0]\n",
    "\n",
    "for i in indices:\n",
    "    print(i, header[i])"
   ]
  },
  {
   "cell_type": "markdown",
   "metadata": {},
   "source": [
    "Są to w większości słówka, które muszą pojawiać się w tekście dość często, gdyż są tak ogólne. Największą grupę z nich tworzą różnego rodzaju zaimki, e.g.: she, her, my, he, me, oraz inne określenia osoby: ms, mrs, mother. Tylko niektóre, jak painting czy process są odrobinkę bardziej charakterystyczne."
   ]
  },
  {
   "cell_type": "code",
   "execution_count": 5,
   "metadata": {},
   "outputs": [
    {
     "name": "stdout",
     "output_type": "stream",
     "text": [
      "2529 music\n",
      "4099 trio\n",
      "3963 theater\n",
      "2707 orchestra\n",
      "799 composers\n",
      "2691 opera\n",
      "3964 theaters\n",
      "2300 m\n",
      "3032 program\n",
      "2905 players\n",
      "1457 festival\n",
      "1202 east\n",
      "4401 y\n",
      "2059 jersey\n",
      "3898 symphony\n"
     ]
    }
   ],
   "source": [
    "indices = list(zip(*sorted(\n",
    "    list(enumerate(pca.components_[0])),\n",
    "    key=lambda x: x[1], reverse=False\n",
    ")[:15]))[0]\n",
    "\n",
    "for i in indices:\n",
    "    print(i, header[i])"
   ]
  },
  {
   "cell_type": "markdown",
   "metadata": {},
   "source": [
    "W tym wypadku mamy do czynienia w przeważającej większości ze słówkami, które mają sporo wspólnego z domeną artykulów, czyli sztuką i muzyką, lecz raczej nie są one skojarzeniami w pierwszej linii."
   ]
  },
  {
   "cell_type": "code",
   "execution_count": 6,
   "metadata": {},
   "outputs": [
    {
     "name": "stdout",
     "output_type": "stream",
     "text": [
      "1794 her\n",
      "3530 she\n",
      "3963 theater\n",
      "2691 opera\n",
      "2517 ms\n",
      "1875 i\n",
      "1851 hour\n",
      "3408 sang\n",
      "3022 production\n",
      "1457 festival\n",
      "2529 music\n",
      "2530 musical\n",
      "3665 songs\n",
      "2707 orchestra\n",
      "4233 vocal\n"
     ]
    }
   ],
   "source": [
    "indices = list(zip(*sorted(\n",
    "    list(enumerate(pca.components_[1])),\n",
    "    key=lambda x: x[1], reverse=True\n",
    ")[:15]))[0]\n",
    "\n",
    "for i in indices:\n",
    "    print(i, header[i])"
   ]
  },
  {
   "cell_type": "markdown",
   "metadata": {},
   "source": [
    "Poza kilkoma zaimkami i określeniami osób, mamy tu słówka stanowiące mocne skojarzenia z domeną artykułów. Za przykład można podać: music, songs, sang, festival itd."
   ]
  },
  {
   "cell_type": "code",
   "execution_count": 7,
   "metadata": {},
   "outputs": [
    {
     "name": "stdout",
     "output_type": "stream",
     "text": [
      "235 art\n",
      "2527 museum\n",
      "1901 images\n",
      "244 artists\n",
      "1139 donations\n",
      "2528 museums\n",
      "2761 painting\n",
      "3922 tax\n",
      "2762 paintings\n",
      "3450 sculpture\n",
      "1606 gallery\n",
      "3451 sculptures\n",
      "2757 painted\n",
      "4315 white\n",
      "3502 service\n"
     ]
    }
   ],
   "source": [
    "indices = list(zip(*sorted(\n",
    "    list(enumerate(pca.components_[1])),\n",
    "    key=lambda x: x[1], reverse=False\n",
    ")[:15]))[0]\n",
    "\n",
    "for i in indices:\n",
    "    print(i, header[i])"
   ]
  },
  {
   "cell_type": "markdown",
   "metadata": {},
   "source": [
    "Tak jak w przypadku pierszego komponetu wiodącego, tak i tutaj dla słów posortowanych względem ich wartości drugiego komponentu wiodącego w kierunku rosnącym i biorąc 15 o najmiejszych wartościach, otrzymujemy w większości słówka mocno związane z domeną artykułow, lecz nie nazbyt często używane."
   ]
  },
  {
   "cell_type": "code",
   "execution_count": 11,
   "metadata": {},
   "outputs": [],
   "source": [
    "reds = []\n",
    "blues = []\n",
    "article_classes = df.iloc[:,1].values\n",
    "for i in range(len(article_classes)):\n",
    "    if article_classes[i] == \"art\":\n",
    "        reds.append(i)\n",
    "    elif article_classes[i] == \"music\":\n",
    "        blues.append(i)\n"
   ]
  },
  {
   "cell_type": "code",
   "execution_count": 12,
   "metadata": {},
   "outputs": [
    {
     "data": {
      "image/png": "[encoded data removed]",
      "text/plain": [
       "<Figure size 640x480 with 1 Axes>"
      ]
     },
     "metadata": {},
     "output_type": "display_data"
    }
   ],
   "source": [
    "import matplotlib.pyplot as plt\n",
    "plt.figure()\n",
    "plt.scatter(X_pca[np.array(reds), 0], X_pca[np.array(reds), 1], c=\"red\")\n",
    "plt.scatter(X_pca[np.array(blues), 0], X_pca[np.array(blues), 1], c=\"blue\")\n",
    "plt.title(\"Projection by PCA\")\n",
    "plt.xlabel(\"1st component\")\n",
    "plt.ylabel(\"2nd component\")\n",
    "plt.show()"
   ]
  },
  {
   "cell_type": "markdown",
   "metadata": {},
   "source": [
    "Mimo iż kompletna separacja artykułów tych dwóch klas prostą funkcją nie jest możliwa, jasno widać klastry utworzone przez artykuły tej samej klasy."
   ]
  },
  {
   "cell_type": "code",
   "execution_count": 16,
   "metadata": {},
   "outputs": [
    {
     "data": {
      "image/png": "[encoded data removed]",
      "text/plain": [
       "<Figure size 640x480 with 1 Axes>"
      ]
     },
     "metadata": {},
     "output_type": "display_data"
    },
    {
     "name": "stdout",
     "output_type": "stream",
     "text": [
      "0.15773478029003477\n"
     ]
    }
   ],
   "source": [
    "variance_ratio = pca.explained_variance_ratio_\n",
    "plt.plot(variance_ratio, 'ro')\n",
    "plt.show()\n",
    "print(sum(variance_ratio[0:10]))"
   ]
  },
  {
   "cell_type": "markdown",
   "metadata": {},
   "source": [
    "Po wykonaniu projekcji na 10 pierwszych komponentów wiodących, zostanie zachowanych ponad 15% wariancji."
   ]
  }
 ],
 "metadata": {
  "kernelspec": {
   "display_name": ".venv",
   "language": "python",
   "name": "python3"
  },
  "language_info": {
   "codemirror_mode": {
    "name": "ipython",
    "version": 3
   },
   "file_extension": ".py",
   "mimetype": "text/x-python",
   "name": "python",
   "nbconvert_exporter": "python",
   "pygments_lexer": "ipython3",
   "version": "3.12.2"
  }
 },
 "nbformat": 4,
 "nbformat_minor": 2
}
